{
 "cells": [
  {
   "attachments": {},
   "cell_type": "markdown",
   "metadata": {},
   "source": [
    "# Transformations\n",
    "\n",
    "\n",
    "Given a random variable $Z$ with PDF $f_Z(z)$ and transformation $Y = g(Z)$, where $g$ is differentiable and strictly increasing, the PDF of Y is given by\n",
    "\n",
    "\n",
    "\\begin{equation*}\n",
    "f_Y(y) = f_Z(z) \\left|\\frac{dz}{dy}\\right| = f_Z(g^{-1}(y)) \\left|\\frac{d}{dy}g^{-1}(y)\\right|\n",
    "\\end{equation*}\n",
    "\n",
    "In the video, we have $y = g(z) = \\mu + z^2$ which has two branches: $z > 0$ and $z < 0$. For the first branch we have:\n",
    "\n",
    "\\begin{equation*}\n",
    "y = g(z) = \\mu + z^2 \\implies z = g^{-1}(y) = \\sqrt{y - \\mu} \\implies \\frac{dz}{dy} = \\frac{1}{2\\sqrt{y - \\mu}}\n",
    "\\end{equation*}\n",
    "\n",
    "and\n",
    "\n",
    "\\begin{equation*}\n",
    "f_Z(z) = \\frac{1}{\\sigma\\sqrt{2\\pi}} e^{-\\frac{z^2}{2\\sigma^2}}\n",
    "\\end{equation*}\n",
    "\n",
    "resulting in \n",
    "\n",
    "\\begin{equation*}\n",
    "f_Y(y) = \\frac{1}{2\\sigma\\sqrt{2\\pi (y - \\mu)}} e^{-\\frac{y - \\mu}{2\\sigma^2}} \n",
    "\n",
    "\\end{equation*}\n",
    "<br/>\n",
    "\n",
    "The second branch has the same $\\left|\\frac{dz}{dy}\\right|$ and $f_Z(z)$ resulting in the same pdf. Given that the transformation is a two-to-one mapping, the final pdf for $y$ becomes (see many-to-one transformations of random variables here https://www.stat.umn.edu/geyer/5101/notes/algo2.pdf)\n",
    "\n",
    "\\begin{equation*}\n",
    "f_Y(y) = \\frac{1}{\\sigma\\sqrt{2\\pi (y - \\mu)}} e^{-\\frac{y - \\mu}{2\\sigma^2}} \n",
    "\n",
    "\\end{equation*}\n",
    "<br/>\n",
    "\n",
    "Note that with $\\mu = 0$ and $\\sigma = 1$, the above relation reduces to the pdf of chi-squared distribution [https://docs.scipy.org/doc/scipy/reference/generated/scipy.stats.chi2.html]. \n",
    "\n",
    "TODO: \n",
    "\n",
    "    -   Derive the above relation using the alternate method discussed in Section 2.2.2 of the above link.\n",
    "    -   See also sectino 3.8 in Statistical Distributions, 4th Edition Catherine Forbes, Merran Evans, Nicholas Hastings, Brian Peacock\n",
    "\n"
   ]
  },
  {
   "attachments": {},
   "cell_type": "markdown",
   "metadata": {},
   "source": [
    "Let's conform this empirically. "
   ]
  },
  {
   "cell_type": "code",
   "execution_count": 1,
   "metadata": {},
   "outputs": [],
   "source": [
    "import numpy as np\n",
    "import utilityFuncs as uf\n",
    "import matplotlib.pyplot as plt\n",
    "from scipy import stats"
   ]
  },
  {
   "cell_type": "code",
   "execution_count": 2,
   "metadata": {},
   "outputs": [],
   "source": [
    "def pdf_expression(mean, std, x):\n",
    "    return (1. / (1. * std * np.sqrt(2. * np.pi * (x - mean)))) * np.exp(-(x - mean) / (2. * std ** 2.))"
   ]
  },
  {
   "cell_type": "code",
   "execution_count": 3,
   "metadata": {},
   "outputs": [],
   "source": [
    "SIGMA = 0.8\n",
    "MU = 1"
   ]
  },
  {
   "cell_type": "code",
   "execution_count": 4,
   "metadata": {},
   "outputs": [],
   "source": [
    "Z = np.random.normal(0, SIGMA, size=10000)\n",
    "Y = MU + Z**2"
   ]
  },
  {
   "cell_type": "code",
   "execution_count": 5,
   "metadata": {},
   "outputs": [
    {
     "data": {
      "text/plain": [
       "[<matplotlib.lines.Line2D at 0x7fad09c55240>]"
      ]
     },
     "execution_count": 5,
     "metadata": {},
     "output_type": "execute_result"
    },
    {
     "data": {
      "image/png": "[encoded data removed]",
      "text/plain": [
       "<Figure size 1000x500 with 1 Axes>"
      ]
     },
     "metadata": {},
     "output_type": "display_data"
    }
   ],
   "source": [
    "bins = np.arange(1.05, 5, 0.01)\n",
    "fig, axes = plt.subplots(1, 1, figsize=(10, 5))\n",
    "axes.hist(Y, density=True, bins=bins)\n",
    "pdf_values = pdf_expression(MU, SIGMA, bins)\n",
    "axes.plot(bins, pdf_values)"
   ]
  },
  {
   "cell_type": "code",
   "execution_count": null,
   "metadata": {},
   "outputs": [],
   "source": []
  }
 ],
 "metadata": {
  "kernelspec": {
   "display_name": "videos",
   "language": "python",
   "name": "python3"
  },
  "language_info": {
   "codemirror_mode": {
    "name": "ipython",
    "version": 3
   },
   "file_extension": ".py",
   "mimetype": "text/x-python",
   "name": "python",
   "nbconvert_exporter": "python",
   "pygments_lexer": "ipython3",
   "version": "3.10.8 | packaged by conda-forge | (main, Nov 22 2022, 08:26:04) [GCC 10.4.0]"
  },
  "orig_nbformat": 4,
  "vscode": {
   "interpreter": {
    "hash": "ebe8a063a208a3cc82aea1fde9bf9353a3c9a6366916c5398a013d2673910f0f"
   }
  }
 },
 "nbformat": 4,
 "nbformat_minor": 2
}
