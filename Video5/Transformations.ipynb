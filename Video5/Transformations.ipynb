{
 "cells": [
  {
   "attachments": {},
   "cell_type": "markdown",
   "metadata": {},
   "source": [
    "# Transformations\n",
    "\n",
    "\n",
    "Given a random variable $Z$ with PDF $f_Z(z)$ and transformation $Y = g(Z)$, where $g$ is differentiable and strictly increasing, the PDF of Y is given by\n",
    "\n",
    "\n",
    "\\begin{equation*}\n",
    "f_Y(y) = f_Z(z) \\left|\\frac{dz}{dy}\\right| = f_Z(g^{-1}(y)) \\left|\\frac{d}{dy}g^{-1}(y)\\right|\n",
    "\\end{equation*}\n",
    "\n",
    "In the video, we have $y = g(z) = \\mu + z^2$ which has two branches: $z > 0$ and $z < 0$. For the first branch we have:\n",
    "\n",
    "\\begin{equation*}\n",
    "y = g(z) = \\mu + z^2 \\implies z = g^{-1}(y) = \\sqrt{y - \\mu} \\implies \\frac{dz}{dy} = \\frac{1}{2\\sqrt{y - \\mu}}\n",
    "\\end{equation*}\n",
    "\n",
    "and\n",
    "\n",
    "\\begin{equation*}\n",
    "f_Z(z) = \\frac{1}{\\sigma\\sqrt{2\\pi}} e^{-\\frac{z^2}{2\\sigma^2}}\n",
    "\\end{equation*}\n",
    "\n",
    "resulting in \n",
    "\n",
    "\\begin{equation*}\n",
    "f_Y(y) = \\frac{1}{2\\sigma\\sqrt{2\\pi (y - \\mu)}} e^{-\\frac{y - \\mu}{2\\sigma^2}} \n",
    "\n",
    "\\end{equation*}\n",
    "<br/>\n",
    "\n",
    "The second branch has the same $\\left|\\frac{dz}{dy}\\right|$ and $f_Z(z)$ resulting in the same pdf."
   ]
  },
  {
   "cell_type": "markdown",
   "metadata": {},
   "source": []
  }
 ],
 "metadata": {
  "kernelspec": {
   "display_name": "videos",
   "language": "python",
   "name": "python3"
  },
  "language_info": {
   "codemirror_mode": {
    "name": "ipython",
    "version": 3
   },
   "file_extension": ".py",
   "mimetype": "text/x-python",
   "name": "python",
   "nbconvert_exporter": "python",
   "pygments_lexer": "ipython3",
   "version": "3.10.8 | packaged by conda-forge | (main, Nov 22 2022, 08:26:04) [GCC 10.4.0]"
  },
  "orig_nbformat": 4,
  "vscode": {
   "interpreter": {
    "hash": "ebe8a063a208a3cc82aea1fde9bf9353a3c9a6366916c5398a013d2673910f0f"
   }
  }
 },
 "nbformat": 4,
 "nbformat_minor": 2
}
