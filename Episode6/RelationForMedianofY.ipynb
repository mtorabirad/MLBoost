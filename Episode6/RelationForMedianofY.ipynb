{
 "cells": [
  {
   "attachments": {},
   "cell_type": "markdown",
   "metadata": {},
   "source": [
    "Imagine random variable X and a transformation g(X). If g is monotonic, it will preserve the order between different values of X and thus    $\\mathop{\\mathbb{M}[g(X)]} = g(\\mathop{\\mathbb{M}[X]})$ where $\\mathbb{M}$ represents median. However, the transformation $Z^2$ that we have in the video is not monotoic so we cannot use this rule for that transformation.\n",
    "\n",
    "\n",
    "We know that pdf of $Y$ is \n",
    "\n",
    "\\begin{equation*}\n",
    "f_Y(y) = \\frac{1}{\\sigma\\sqrt{2\\pi (y - \\mu)}} e^{-\\frac{y - \\mu}{2\\sigma^2}} \n",
    "\n",
    "\\end{equation*}"
   ]
  },
  {
   "attachments": {},
   "cell_type": "markdown",
   "metadata": {},
   "source": [
    "Let $F_Y(y)$ be the Cumulative Distribution Function corresponding to $f_Y(y)$:\n",
    "\n",
    "$$ F_Y(y) = \\int_{\\mu}^{y} \\frac{1}{\\sigma \\sqrt{2 \\pi (y\\prime - \\mu)}} e^{-\\frac{y\\prime - \\mu}{2\\sigma ^2}} dy\\prime$$\n"
   ]
  },
  {
   "attachments": {},
   "cell_type": "markdown",
   "metadata": {},
   "source": [
    "where the lower bound of the integral is $\\mu$, instead of the usual $-\\infty$, because $Y \\geq \\mu$. Defining the following change of variable"
   ]
  },
  {
   "attachments": {},
   "cell_type": "markdown",
   "metadata": {},
   "source": [
    "$$y_2 = \\frac{y\\prime - \\mu}{2\\sigma^2}$$"
   ]
  },
  {
   "attachments": {},
   "cell_type": "markdown",
   "metadata": {},
   "source": [
    "the integral becomes\n",
    "\n",
    "$$ F_Y(y) = \\frac{1}{\\sqrt{\\pi}}\\int_{0}^{\\frac{y - \\mu}{2\\sigma^2}} \\frac{1}{\\sqrt{y_2}} e^{-y_2} dy_2 = \\frac{1}{\\sqrt{\\pi}} \\gamma(\\frac{1}{2}, \\frac{y - \\mu}{2\\sigma^2})$$\n",
    "\n",
    "where $\\gamma$ is the lower incomplete Gamma function [https://docs.scipy.org/doc/scipy/reference/generated/scipy.special.gammainc.html]."
   ]
  },
  {
   "attachments": {},
   "cell_type": "markdown",
   "metadata": {},
   "source": [
    "By definition, the median of $Y$, $\\mathbb{M}[Y]$, is\n",
    "\n",
    "$$\\mathbb{M}[Y] = \\{y \\ | \\ F_Y(y) =0.5\\}$$\n",
    "\n",
    "Resulting in\n",
    "\n",
    "$$ \\mathbb{M}[Y] = \\mu + 2\\sigma^2 \\gamma^{-1}(0.5, 0.5)$$\n",
    "\n",
    "\n",
    "where $\\gamma^{-1}$ is the inverse of $\\gamma$ function, with the implementation here https://docs.scipy.org/doc/scipy/reference/generated/scipy.special.gammaincinv.html, which is the reason why $\\pi$ is dropped.\n",
    "\n",
    "\n",
    "Substituting the value for $\\gamma^{-1}(0.5, 0.5)$, one will get\n",
    "\n",
    "\n",
    "$$ \\mathbb{M}[Y] = \\mu + 0.4549\\sigma^2$$\n"
   ]
  },
  {
   "cell_type": "code",
   "execution_count": 1,
   "metadata": {},
   "outputs": [],
   "source": [
    "import numpy as np\n",
    "import utilityFuncs as uf\n",
    "import matplotlib.pyplot as plt\n",
    "from scipy.stats import uniform, chi2\n",
    "from scipy.special import erf, gammainc, gammaincinv\n",
    "# gammainc: regularized lower incomplete gamma function"
   ]
  },
  {
   "cell_type": "code",
   "execution_count": 2,
   "metadata": {},
   "outputs": [],
   "source": [
    "SIGMA = 0.8\n",
    "MU = 1"
   ]
  },
  {
   "cell_type": "code",
   "execution_count": 3,
   "metadata": {},
   "outputs": [],
   "source": [
    "def pdf_expression(mean, std, x):\n",
    "    return (1. / (1. * std * np.sqrt(2. * np.pi * (x - mean)))) * np.exp(-(x - mean) / (2. * std ** 2.))\n",
    "\n",
    "\n",
    "def Y_pdf(mean, std):\n",
    "    return lambda x: pdf_expression(mean, std, x)\n"
   ]
  },
  {
   "cell_type": "code",
   "execution_count": 4,
   "metadata": {},
   "outputs": [],
   "source": [
    "Y_scale = 10\n",
    "n = 10000\n",
    "Y, _ = uf.importance_sampling(Y_pdf(MU, SIGMA), uniform(loc=MU, scale=Y_scale), n)\n"
   ]
  },
  {
   "cell_type": "code",
   "execution_count": 5,
   "metadata": {},
   "outputs": [],
   "source": [
    "bins = np.arange(MU, MU + Y_scale, 0.1)"
   ]
  },
  {
   "attachments": {},
   "cell_type": "markdown",
   "metadata": {},
   "source": [
    "Let's first conform that the CDF is actually $\\frac{1}{\\sqrt{\\pi}} \\gamma(\\frac{1}{2}, \\frac{y - \\mu}{2\\sigma^2})$\n"
   ]
  },
  {
   "cell_type": "code",
   "execution_count": 17,
   "metadata": {},
   "outputs": [
    {
     "data": {
      "text/plain": [
       "<matplotlib.lines.Line2D at 0x7fe7144a5f60>"
      ]
     },
     "execution_count": 17,
     "metadata": {},
     "output_type": "execute_result"
    },
    {
     "data": {
      "image/png": "[encoded data removed]",
      "text/plain": [
       "<Figure size 640x480 with 1 Axes>"
      ]
     },
     "metadata": {},
     "output_type": "display_data"
    }
   ],
   "source": [
    "plt.hist(Y, density=True, bins=bins, cumulative=True, alpha=0.2)\n",
    "plt.plot(bins, gammainc(0.5, (bins - MU)/(2*SIGMA**2)))\n",
    "plt.axvline(x = MU + 2*SIGMA**2*gammaincinv(0.5, 0.5))\n",
    "plt.axhline(y = 0.5)"
   ]
  },
  {
   "cell_type": "code",
   "execution_count": 7,
   "metadata": {},
   "outputs": [
    {
     "data": {
      "text/plain": [
       "(1.2755976171552343, 1.2912000000000001)"
      ]
     },
     "execution_count": 7,
     "metadata": {},
     "output_type": "execute_result"
    }
   ],
   "source": [
    "np.median(Y), MU + 0.455*SIGMA**2"
   ]
  },
  {
   "cell_type": "code",
   "execution_count": null,
   "metadata": {},
   "outputs": [],
   "source": []
  }
 ],
 "metadata": {
  "kernelspec": {
   "display_name": "videos",
   "language": "python",
   "name": "python3"
  },
  "language_info": {
   "codemirror_mode": {
    "name": "ipython",
    "version": 3
   },
   "file_extension": ".py",
   "mimetype": "text/x-python",
   "name": "python",
   "nbconvert_exporter": "python",
   "pygments_lexer": "ipython3",
   "version": "3.10.8 | packaged by conda-forge | (main, Nov 22 2022, 08:26:04) [GCC 10.4.0]"
  },
  "orig_nbformat": 4,
  "vscode": {
   "interpreter": {
    "hash": "ebe8a063a208a3cc82aea1fde9bf9353a3c9a6366916c5398a013d2673910f0f"
   }
  }
 },
 "nbformat": 4,
 "nbformat_minor": 2
}
